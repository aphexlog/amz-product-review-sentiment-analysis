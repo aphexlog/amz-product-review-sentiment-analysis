{
 "cells": [
  {
   "cell_type": "code",
   "execution_count": 3,
   "id": "fd397857-a0a9-4fb9-817b-b953feabb39c",
   "metadata": {},
   "outputs": [
    {
     "name": "stdout",
     "output_type": "stream",
     "text": [
      "Id,ProductId,UserId,ProfileName,HelpfulnessNumerator,HelpfulnessDenominator,Score,Time,Summary,Text\n",
      "1,B001E4KFG0,A3SGXH7AUHU8GW,delmartian,1,1,5,1303862400,Good Quality Dog Food,I have bought several of the Vitality canned dog food products and have found them all to be of good quality. The product looks more like a stew than a processed meat and it smells better. My Labrador is finicky and she appreciates this product better than  most.\n",
      "2,B00813GRG4,A1D87F6ZCVE5NK,dll pa,0,0,1,1346976000,Not as Advertised,\"Product arrived labeled as Jumbo Salted Peanuts...the peanuts were actually small sized unsalted. Not sure if this was an error or if the vendor intended to represent the product as \"\"Jumbo\"\".\"\n",
      "3,B000LQOCH0,ABXLMWJIXXAIN,\"Natalia Corres \"\"Natalia Corres\"\"\",1,1,4,1219017600,\"\"\"Delight\"\" says it all\",\"This is a confection that has been around a few centuries.  It is a light, pillowy citrus gelatin with nuts - in this case Filberts. And it is cut into tiny squares and then liberally co\n"
     ]
    }
   ],
   "source": [
    "import boto3\n",
    "\n",
    "# S3 client\n",
    "client = boto3.client('s3')\n",
    "\n",
    "try:\n",
    "    # Grab the data from the S3 bucket\n",
    "    data = client.get_object(Bucket='elevator-robot-sagemaker', Key='Reviews.csv')\n",
    "\n",
    "    # Read the contents of the file\n",
    "    contents = data['Body'].read().decode('utf-8')\n",
    "\n",
    "    # Print the contents (or load it into a DataFrame if it's a CSV)\n",
    "    print(contents[:1000])\n",
    "except Exception as e:\n",
    "    print(f\"An error occurred: {e}\")\n"
   ]
  },
  {
   "cell_type": "code",
   "execution_count": null,
   "id": "062f1d99-349f-44eb-b334-4b148c91f404",
   "metadata": {},
   "outputs": [],
   "source": []
  },
  {
   "cell_type": "code",
   "execution_count": null,
   "id": "4f7b15b1-b96d-49af-a925-68da052bb357",
   "metadata": {},
   "outputs": [],
   "source": []
  }
 ],
 "metadata": {
  "kernelspec": {
   "display_name": "Python 3 (ipykernel)",
   "language": "python",
   "name": "python3"
  },
  "language_info": {
   "codemirror_mode": {
    "name": "ipython",
    "version": 3
   },
   "file_extension": ".py",
   "mimetype": "text/x-python",
   "name": "python",
   "nbconvert_exporter": "python",
   "pygments_lexer": "ipython3",
   "version": "3.10.14"
  }
 },
 "nbformat": 4,
 "nbformat_minor": 5
}
